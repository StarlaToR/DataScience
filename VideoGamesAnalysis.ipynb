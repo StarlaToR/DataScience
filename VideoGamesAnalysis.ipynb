{
 "cells": [
  {
   "cell_type": "markdown",
   "id": "696abbd2",
   "metadata": {},
   "source": [
    "Video Game Analysis\n"
   ]
  },
  {
   "cell_type": "code",
   "execution_count": 1,
   "id": "3b7856b2",
   "metadata": {},
   "outputs": [
    {
     "name": "stdout",
     "output_type": "stream",
     "text": [
      "[0 1 2]\n"
     ]
    }
   ],
   "source": [
    "import numpy as np\n",
    "import pandas as pd\n",
    "\n",
    "test_array = np.array([0,1,2])\n",
    "print(test_array)\n"
   ]
  },
  {
   "cell_type": "code",
   "execution_count": null,
   "id": "4cf5e551",
   "metadata": {},
   "outputs": [],
   "source": [
    "import matplotlib.pyplot as plt\n",
    "import seaborn as sns\n",
    "import streamlit as st\n",
    "%matplotlib inline"
   ]
  },
  {
   "cell_type": "code",
   "execution_count": null,
   "id": "4343d651",
   "metadata": {},
   "outputs": [],
   "source": [
    "@st.cache_data\n",
    "def load_csv(url):\n",
    "    df = pd.read_csv(url)\n",
    "    return df\n",
    "\n",
    "\n",
    "df = load_csv(\"temperatures.csv\")\n",
    "df.head()"
   ]
  },
  {
   "cell_type": "code",
   "execution_count": null,
   "id": "d99da435",
   "metadata": {},
   "outputs": [],
   "source": [
    "df.info()"
   ]
  },
  {
   "cell_type": "code",
   "execution_count": null,
   "id": "6c4f67c4",
   "metadata": {},
   "outputs": [],
   "source": [
    "platGenre = pd.crosstab(df.Platform,df.Genre)\n",
    "platGenreTotal = platGenre.sum(axis=1).sort_values(ascending = False)\n",
    "fig = plt.figure(figsize=(8,6))\n",
    "sns.barplot(y = platGenreTotal.index, x = platGenreTotal.values, orient='h')\n",
    "plt.ylabel = \"Platform\"\n",
    "plt.xlabel = \"The amount of games\"\n",
    "\n",
    "st.pyplot(fig)"
   ]
  },
  {
   "cell_type": "code",
   "execution_count": null,
   "id": "39d3ae38",
   "metadata": {},
   "outputs": [],
   "source": [
    "platGenre['Total'] = platGenre.sum(axis=1)\n",
    "popPlatform = platGenre[platGenre['Total']>1000].sort_values(by='Total', ascending = False)\n",
    "neededdata = popPlatform.loc[:,:'Strategy']\n",
    "maxi = neededdata.values.max()\n",
    "mini = neededdata.values.min()\n",
    "popPlatformfinal = popPlatform.append(pd.DataFrame(popPlatform.sum(), columns=['total']).T, ignore_index=False)\n",
    "sns.set(font_scale=0.7)\n",
    "plt.figure(figsize=(10,5))\n",
    "sns.heatmap(popPlatformfinal, vmin = mini, vmax = maxi, annot=True, fmt=\"d\")\n",
    "plt.xticks(rotation = 90)\n",
    "\n",
    "st.pyplot(fig)"
   ]
  },
  {
   "cell_type": "code",
   "execution_count": null,
   "id": "5486d910",
   "metadata": {},
   "outputs": [],
   "source": [
    "GenreGroup = df.groupby(['Genre']).sum().loc[:, 'NA_Sales':'Global_Sales']\n",
    "GenreGroup['NA_Sales%'] = GenreGroup['NA_Sales']/GenreGroup['Global_Sales']\n",
    "GenreGroup['EU_Sales%'] = GenreGroup['EU_Sales']/GenreGroup['Global_Sales']\n",
    "GenreGroup['JP_Sales%'] = GenreGroup['JP_Sales']/GenreGroup['Global_Sales']\n",
    "GenreGroup['Other_Sales%'] = GenreGroup['Other_Sales']/GenreGroup['Global_Sales']\n",
    "plt.figure(figsize=(8, 10))\n",
    "sns.set(font_scale=0.7)\n",
    "plt.subplot(211)\n",
    "sns.heatmap(GenreGroup.loc[:, 'NA_Sales':'Other_Sales'], annot=True, fmt = '.1f')\n",
    "plt.title(\"Comparation of each area in each Genre\")\n",
    "plt.subplot(212)\n",
    "sns.heatmap(GenreGroup.loc[:,'NA_Sales%':'Other_Sales%'], vmax =1, vmin=0, annot=True, fmt = '.2%')\n",
    "plt.title(\"Comparation of each area in each Genre(Pencentage)\")\n",
    "\n",
    "st.pyplot(fig)"
   ]
  }
 ],
 "metadata": {
  "kernelspec": {
   "display_name": "venv",
   "language": "python",
   "name": "python3"
  },
  "language_info": {
   "codemirror_mode": {
    "name": "ipython",
    "version": 3
   },
   "file_extension": ".py",
   "mimetype": "text/x-python",
   "name": "python",
   "nbconvert_exporter": "python",
   "pygments_lexer": "ipython3",
   "version": "3.13.7"
  }
 },
 "nbformat": 4,
 "nbformat_minor": 5
}
